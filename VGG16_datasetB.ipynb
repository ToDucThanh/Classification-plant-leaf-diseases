{
 "cells": [
  {
   "cell_type": "code",
   "execution_count": 1,
   "id": "fc60ebee",
   "metadata": {
    "execution": {
     "iopub.execute_input": "2021-07-28T10:16:03.167282Z",
     "iopub.status.busy": "2021-07-28T10:16:03.166717Z",
     "iopub.status.idle": "2021-07-28T10:16:07.471525Z",
     "shell.execute_reply": "2021-07-28T10:16:07.470916Z",
     "shell.execute_reply.started": "2021-07-28T03:17:09.49287Z"
    },
    "papermill": {
     "duration": 4.326683,
     "end_time": "2021-07-28T10:16:07.471677",
     "exception": false,
     "start_time": "2021-07-28T10:16:03.144994",
     "status": "completed"
    },
    "tags": []
   },
   "outputs": [],
   "source": [
    "import tensorflow as tf\n",
    "from tensorflow.keras.layers import Input, Conv2D, ZeroPadding2D, Flatten, Dense, Activation, Add, BatchNormalization, MaxPooling2D \n",
    "from tensorflow.keras.models import Model\n",
    "from tensorflow.keras.layers import GlobalAveragePooling2D\n",
    "#from tensorflow.keras import activations\n",
    "from tensorflow.keras.optimizers import Adam\n",
    "from tensorflow.keras.preprocessing.image import ImageDataGenerator\n",
    "from tensorflow.keras.callbacks import ModelCheckpoint, EarlyStopping, ReduceLROnPlateau\n",
    "import matplotlib.pyplot as plt\n",
    "import numpy as np\n",
    "import pandas as pd\n",
    "from keras.applications.vgg16 import VGG16, preprocess_input"
   ]
  },
  {
   "cell_type": "code",
   "execution_count": 2,
   "id": "7de9ea90",
   "metadata": {
    "execution": {
     "iopub.execute_input": "2021-07-28T10:16:07.496436Z",
     "iopub.status.busy": "2021-07-28T10:16:07.495914Z",
     "iopub.status.idle": "2021-07-28T10:16:10.051265Z",
     "shell.execute_reply": "2021-07-28T10:16:10.050593Z",
     "shell.execute_reply.started": "2021-07-28T03:23:18.452502Z"
    },
    "papermill": {
     "duration": 2.570911,
     "end_time": "2021-07-28T10:16:10.051410",
     "exception": false,
     "start_time": "2021-07-28T10:16:07.480499",
     "status": "completed"
    },
    "tags": []
   },
   "outputs": [
    {
     "name": "stdout",
     "output_type": "stream",
     "text": [
      "Downloading data from https://storage.googleapis.com/tensorflow/keras-applications/vgg16/vgg16_weights_tf_dim_ordering_tf_kernels_notop.h5\n",
      "58892288/58889256 [==============================] - 0s 0us/step\n"
     ]
    }
   ],
   "source": [
    "vgg = VGG16(input_shape=(512,512,3),  weights='imagenet', include_top=False)\n",
    "for layer in vgg.layers:\n",
    "  layer.trainable = False"
   ]
  },
  {
   "cell_type": "code",
   "execution_count": 3,
   "id": "f745d0c1",
   "metadata": {
    "execution": {
     "iopub.execute_input": "2021-07-28T10:16:10.079292Z",
     "iopub.status.busy": "2021-07-28T10:16:10.078217Z",
     "iopub.status.idle": "2021-07-28T10:16:10.108575Z",
     "shell.execute_reply": "2021-07-28T10:16:10.109216Z",
     "shell.execute_reply.started": "2021-07-28T03:23:22.301114Z"
    },
    "papermill": {
     "duration": 0.047374,
     "end_time": "2021-07-28T10:16:10.109378",
     "exception": false,
     "start_time": "2021-07-28T10:16:10.062004",
     "status": "completed"
    },
    "tags": []
   },
   "outputs": [
    {
     "name": "stdout",
     "output_type": "stream",
     "text": [
      "Model: \"model\"\n",
      "_________________________________________________________________\n",
      "Layer (type)                 Output Shape              Param #   \n",
      "=================================================================\n",
      "input_1 (InputLayer)         [(None, 512, 512, 3)]     0         \n",
      "_________________________________________________________________\n",
      "block1_conv1 (Conv2D)        (None, 512, 512, 64)      1792      \n",
      "_________________________________________________________________\n",
      "block1_conv2 (Conv2D)        (None, 512, 512, 64)      36928     \n",
      "_________________________________________________________________\n",
      "block1_pool (MaxPooling2D)   (None, 256, 256, 64)      0         \n",
      "_________________________________________________________________\n",
      "block2_conv1 (Conv2D)        (None, 256, 256, 128)     73856     \n",
      "_________________________________________________________________\n",
      "block2_conv2 (Conv2D)        (None, 256, 256, 128)     147584    \n",
      "_________________________________________________________________\n",
      "block2_pool (MaxPooling2D)   (None, 128, 128, 128)     0         \n",
      "_________________________________________________________________\n",
      "block3_conv1 (Conv2D)        (None, 128, 128, 256)     295168    \n",
      "_________________________________________________________________\n",
      "block3_conv2 (Conv2D)        (None, 128, 128, 256)     590080    \n",
      "_________________________________________________________________\n",
      "block3_conv3 (Conv2D)        (None, 128, 128, 256)     590080    \n",
      "_________________________________________________________________\n",
      "block3_pool (MaxPooling2D)   (None, 64, 64, 256)       0         \n",
      "_________________________________________________________________\n",
      "block4_conv1 (Conv2D)        (None, 64, 64, 512)       1180160   \n",
      "_________________________________________________________________\n",
      "block4_conv2 (Conv2D)        (None, 64, 64, 512)       2359808   \n",
      "_________________________________________________________________\n",
      "block4_conv3 (Conv2D)        (None, 64, 64, 512)       2359808   \n",
      "_________________________________________________________________\n",
      "block4_pool (MaxPooling2D)   (None, 32, 32, 512)       0         \n",
      "_________________________________________________________________\n",
      "block5_conv1 (Conv2D)        (None, 32, 32, 512)       2359808   \n",
      "_________________________________________________________________\n",
      "block5_conv2 (Conv2D)        (None, 32, 32, 512)       2359808   \n",
      "_________________________________________________________________\n",
      "block5_conv3 (Conv2D)        (None, 32, 32, 512)       2359808   \n",
      "_________________________________________________________________\n",
      "block5_pool (MaxPooling2D)   (None, 16, 16, 512)       0         \n",
      "_________________________________________________________________\n",
      "flatten (Flatten)            (None, 131072)            0         \n",
      "_________________________________________________________________\n",
      "dense (Dense)                (None, 64)                8388672   \n",
      "_________________________________________________________________\n",
      "dense_1 (Dense)              (None, 5)                 325       \n",
      "=================================================================\n",
      "Total params: 23,103,685\n",
      "Trainable params: 8,388,997\n",
      "Non-trainable params: 14,714,688\n",
      "_________________________________________________________________\n"
     ]
    }
   ],
   "source": [
    "x = Flatten()(vgg.output)\n",
    "x = Dense(64, activation='relu')(x)\n",
    "prediction = Dense(5, activation='softmax')(x)\n",
    "model = Model(inputs=vgg.input, outputs=prediction)\n",
    "model.summary()"
   ]
  },
  {
   "cell_type": "code",
   "execution_count": 4,
   "id": "79aa5727",
   "metadata": {
    "execution": {
     "iopub.execute_input": "2021-07-28T10:16:10.134817Z",
     "iopub.status.busy": "2021-07-28T10:16:10.134224Z",
     "iopub.status.idle": "2021-07-28T10:16:10.192247Z",
     "shell.execute_reply": "2021-07-28T10:16:10.191493Z",
     "shell.execute_reply.started": "2021-07-28T03:23:41.94022Z"
    },
    "papermill": {
     "duration": 0.072261,
     "end_time": "2021-07-28T10:16:10.192384",
     "exception": false,
     "start_time": "2021-07-28T10:16:10.120123",
     "status": "completed"
    },
    "tags": []
   },
   "outputs": [],
   "source": [
    "train_path = '../input/cassava-train/cassava_train/'\n",
    "df = pd.read_csv('../input/cassava/train_data.csv')\n",
    "#df.head()\n",
    "\n",
    "df.label = df.label.astype('str')"
   ]
  },
  {
   "cell_type": "code",
   "execution_count": 5,
   "id": "fde43d8a",
   "metadata": {
    "execution": {
     "iopub.execute_input": "2021-07-28T10:16:10.218130Z",
     "iopub.status.busy": "2021-07-28T10:16:10.217281Z",
     "iopub.status.idle": "2021-07-28T10:16:10.219790Z",
     "shell.execute_reply": "2021-07-28T10:16:10.219388Z",
     "shell.execute_reply.started": "2021-07-28T03:23:43.760793Z"
    },
    "papermill": {
     "duration": 0.016859,
     "end_time": "2021-07-28T10:16:10.219909",
     "exception": false,
     "start_time": "2021-07-28T10:16:10.203050",
     "status": "completed"
    },
    "tags": []
   },
   "outputs": [],
   "source": [
    "size = 512\n",
    "batch_size = 32\n",
    "epochs = 25"
   ]
  },
  {
   "cell_type": "code",
   "execution_count": 6,
   "id": "8fc0e291",
   "metadata": {
    "execution": {
     "iopub.execute_input": "2021-07-28T10:16:10.246557Z",
     "iopub.status.busy": "2021-07-28T10:16:10.245768Z",
     "iopub.status.idle": "2021-07-28T10:16:10.248485Z",
     "shell.execute_reply": "2021-07-28T10:16:10.248090Z",
     "shell.execute_reply.started": "2021-07-28T03:24:15.034827Z"
    },
    "papermill": {
     "duration": 0.018112,
     "end_time": "2021-07-28T10:16:10.248596",
     "exception": false,
     "start_time": "2021-07-28T10:16:10.230484",
     "status": "completed"
    },
    "tags": []
   },
   "outputs": [],
   "source": [
    "traingen = ImageDataGenerator(rescale=1.0/255, validation_split=0.15,                                      \n",
    "                                     rotation_range = 15,\n",
    "                                     zoom_range = 0.2,\n",
    "                                     horizontal_flip = True,\n",
    "                                     vertical_flip = True,\n",
    "                                     fill_mode = 'nearest',\n",
    "                                     shear_range = 0.1,\n",
    "                                     height_shift_range = 0.1,\n",
    "                                     width_shift_range = 0.1)\n",
    "validgen = ImageDataGenerator(rescale=1.0/255, validation_split=0.15)"
   ]
  },
  {
   "cell_type": "code",
   "execution_count": 7,
   "id": "d585385c",
   "metadata": {
    "execution": {
     "iopub.execute_input": "2021-07-28T10:16:10.329910Z",
     "iopub.status.busy": "2021-07-28T10:16:10.308458Z",
     "iopub.status.idle": "2021-07-28T10:17:05.905354Z",
     "shell.execute_reply": "2021-07-28T10:17:05.904705Z",
     "shell.execute_reply.started": "2021-07-28T03:24:39.83688Z"
    },
    "papermill": {
     "duration": 55.646521,
     "end_time": "2021-07-28T10:17:05.905529",
     "exception": false,
     "start_time": "2021-07-28T10:16:10.259008",
     "status": "completed"
    },
    "tags": []
   },
   "outputs": [
    {
     "name": "stdout",
     "output_type": "stream",
     "text": [
      "Found 18006 validated image filenames belonging to 5 classes.\n",
      "Found 3177 validated image filenames belonging to 5 classes.\n"
     ]
    }
   ],
   "source": [
    "train_gen = traingen.flow_from_dataframe(df, directory=train_path, \n",
    "                                       subset='training',\n",
    "                                       x_col='image_id',\n",
    "                                       y_col = \"label\",\n",
    "                                       target_size = (size, size),\n",
    "                                       batch_size = batch_size,\n",
    "                                       shuffle=True,\n",
    "                                       class_mode = \"sparse\")\n",
    "valid_gen = validgen.flow_from_dataframe(df, directory=train_path, \n",
    "                                       subset='validation',\n",
    "                                       x_col='image_id',\n",
    "                                       y_col = \"label\",\n",
    "                                       target_size = (size, size),\n",
    "                                       batch_size = batch_size,\n",
    "                                       shuffle=False,\n",
    "                                       class_mode = \"sparse\")"
   ]
  },
  {
   "cell_type": "code",
   "execution_count": 8,
   "id": "c6cda7b5",
   "metadata": {
    "execution": {
     "iopub.execute_input": "2021-07-28T10:17:05.933118Z",
     "iopub.status.busy": "2021-07-28T10:17:05.932405Z",
     "iopub.status.idle": "2021-07-28T10:17:05.935301Z",
     "shell.execute_reply": "2021-07-28T10:17:05.934877Z",
     "shell.execute_reply.started": "2021-07-28T03:26:42.801277Z"
    },
    "papermill": {
     "duration": 0.018063,
     "end_time": "2021-07-28T10:17:05.935403",
     "exception": false,
     "start_time": "2021-07-28T10:17:05.917340",
     "status": "completed"
    },
    "tags": []
   },
   "outputs": [],
   "source": [
    "early_stop = EarlyStopping(monitor = 'val_loss', min_delta = 0.001, \n",
    "                               patience = 10, mode = 'min', verbose = 1,\n",
    "                               restore_best_weights = True)\n",
    "reduce_lr = ReduceLROnPlateau(monitor = 'val_loss', factor = 0.2, \n",
    "                                      patience = 2, min_delta = 0.001, \n",
    "                                      mode = 'min', verbose = 1)"
   ]
  },
  {
   "cell_type": "code",
   "execution_count": 9,
   "id": "f8f9fed7",
   "metadata": {
    "execution": {
     "iopub.execute_input": "2021-07-28T10:17:05.970840Z",
     "iopub.status.busy": "2021-07-28T10:17:05.969993Z",
     "iopub.status.idle": "2021-07-28T18:20:46.140114Z",
     "shell.execute_reply": "2021-07-28T18:20:46.139446Z",
     "shell.execute_reply.started": "2021-07-28T03:28:25.530494Z"
    },
    "papermill": {
     "duration": 29020.194035,
     "end_time": "2021-07-28T18:20:46.140252",
     "exception": false,
     "start_time": "2021-07-28T10:17:05.946217",
     "status": "completed"
    },
    "tags": []
   },
   "outputs": [
    {
     "name": "stdout",
     "output_type": "stream",
     "text": [
      "Epoch 1/25\n",
      "562/562 [==============================] - 1552s 3s/step - loss: 2.3093 - accuracy: 0.6055 - val_loss: 0.9153 - val_accuracy: 0.6499\n",
      "\n",
      "Epoch 00001: val_loss improved from inf to 0.91526, saving model to ./vgg_transfer_cassava\n",
      "Epoch 2/25\n",
      "562/562 [==============================] - 1280s 2s/step - loss: 0.9035 - accuracy: 0.6554 - val_loss: 0.8693 - val_accuracy: 0.6607\n",
      "\n",
      "Epoch 00002: val_loss improved from 0.91526 to 0.86930, saving model to ./vgg_transfer_cassava\n",
      "Epoch 3/25\n",
      "562/562 [==============================] - 1295s 2s/step - loss: 0.8682 - accuracy: 0.6654 - val_loss: 0.8847 - val_accuracy: 0.6705\n",
      "\n",
      "Epoch 00003: val_loss did not improve from 0.86930\n",
      "Epoch 4/25\n",
      "562/562 [==============================] - 1262s 2s/step - loss: 0.8544 - accuracy: 0.6794 - val_loss: 0.8950 - val_accuracy: 0.6682\n",
      "\n",
      "Epoch 00004: val_loss did not improve from 0.86930\n",
      "\n",
      "Epoch 00004: ReduceLROnPlateau reducing learning rate to 0.00020000000949949026.\n",
      "Epoch 5/25\n",
      "562/562 [==============================] - 1274s 2s/step - loss: 0.8491 - accuracy: 0.6735 - val_loss: 0.8451 - val_accuracy: 0.6802\n",
      "\n",
      "Epoch 00005: val_loss improved from 0.86930 to 0.84505, saving model to ./vgg_transfer_cassava\n",
      "Epoch 6/25\n",
      "562/562 [==============================] - 1273s 2s/step - loss: 0.8228 - accuracy: 0.6839 - val_loss: 0.8488 - val_accuracy: 0.6806\n",
      "\n",
      "Epoch 00006: val_loss did not improve from 0.84505\n",
      "Epoch 7/25\n",
      "562/562 [==============================] - 1277s 2s/step - loss: 0.8284 - accuracy: 0.6841 - val_loss: 0.8883 - val_accuracy: 0.6626\n",
      "\n",
      "Epoch 00007: val_loss did not improve from 0.84505\n",
      "\n",
      "Epoch 00007: ReduceLROnPlateau reducing learning rate to 4.0000001899898055e-05.\n",
      "Epoch 8/25\n",
      "562/562 [==============================] - 1286s 2s/step - loss: 0.8311 - accuracy: 0.6770 - val_loss: 0.8491 - val_accuracy: 0.6787\n",
      "\n",
      "Epoch 00008: val_loss did not improve from 0.84505\n",
      "Epoch 9/25\n",
      "562/562 [==============================] - 1303s 2s/step - loss: 0.8149 - accuracy: 0.6853 - val_loss: 0.8386 - val_accuracy: 0.6821\n",
      "\n",
      "Epoch 00009: val_loss improved from 0.84505 to 0.83856, saving model to ./vgg_transfer_cassava\n",
      "Epoch 10/25\n",
      "562/562 [==============================] - 1299s 2s/step - loss: 0.8153 - accuracy: 0.6867 - val_loss: 0.8395 - val_accuracy: 0.6824\n",
      "\n",
      "Epoch 00010: val_loss did not improve from 0.83856\n",
      "Epoch 11/25\n",
      "562/562 [==============================] - 1319s 2s/step - loss: 0.8238 - accuracy: 0.6811 - val_loss: 0.8321 - val_accuracy: 0.6831\n",
      "\n",
      "Epoch 00011: val_loss improved from 0.83856 to 0.83207, saving model to ./vgg_transfer_cassava\n",
      "Epoch 12/25\n",
      "562/562 [==============================] - 1331s 2s/step - loss: 0.8217 - accuracy: 0.6790 - val_loss: 0.8309 - val_accuracy: 0.6828\n",
      "\n",
      "Epoch 00012: val_loss improved from 0.83207 to 0.83088, saving model to ./vgg_transfer_cassava\n",
      "Epoch 13/25\n",
      "562/562 [==============================] - 1301s 2s/step - loss: 0.8198 - accuracy: 0.6831 - val_loss: 0.8358 - val_accuracy: 0.6824\n",
      "\n",
      "Epoch 00013: val_loss did not improve from 0.83088\n",
      "Epoch 14/25\n",
      "562/562 [==============================] - 1300s 2s/step - loss: 0.8188 - accuracy: 0.6840 - val_loss: 0.8345 - val_accuracy: 0.6831\n",
      "\n",
      "Epoch 00014: val_loss did not improve from 0.83088\n",
      "\n",
      "Epoch 00014: ReduceLROnPlateau reducing learning rate to 8.000000525498762e-06.\n",
      "Epoch 15/25\n",
      "562/562 [==============================] - 1314s 2s/step - loss: 0.8171 - accuracy: 0.6811 - val_loss: 0.8379 - val_accuracy: 0.6818\n",
      "\n",
      "Epoch 00015: val_loss did not improve from 0.83088\n",
      "Epoch 16/25\n",
      "562/562 [==============================] - 1305s 2s/step - loss: 0.8200 - accuracy: 0.6819 - val_loss: 0.8390 - val_accuracy: 0.6799\n",
      "\n",
      "Epoch 00016: val_loss did not improve from 0.83088\n",
      "\n",
      "Epoch 00016: ReduceLROnPlateau reducing learning rate to 1.6000001778593287e-06.\n",
      "Epoch 17/25\n",
      "562/562 [==============================] - 1309s 2s/step - loss: 0.8275 - accuracy: 0.6737 - val_loss: 0.8338 - val_accuracy: 0.6837\n",
      "\n",
      "Epoch 00017: val_loss did not improve from 0.83088\n",
      "Epoch 18/25\n",
      "562/562 [==============================] - 1329s 2s/step - loss: 0.8119 - accuracy: 0.6850 - val_loss: 0.8361 - val_accuracy: 0.6824\n",
      "\n",
      "Epoch 00018: val_loss did not improve from 0.83088\n",
      "\n",
      "Epoch 00018: ReduceLROnPlateau reducing learning rate to 3.200000264769187e-07.\n",
      "Epoch 19/25\n",
      "562/562 [==============================] - 1340s 2s/step - loss: 0.8097 - accuracy: 0.6849 - val_loss: 0.8361 - val_accuracy: 0.6824\n",
      "\n",
      "Epoch 00019: val_loss did not improve from 0.83088\n",
      "Epoch 20/25\n",
      "562/562 [==============================] - 1347s 2s/step - loss: 0.8235 - accuracy: 0.6796 - val_loss: 0.8363 - val_accuracy: 0.6831\n",
      "\n",
      "Epoch 00020: val_loss did not improve from 0.83088\n",
      "\n",
      "Epoch 00020: ReduceLROnPlateau reducing learning rate to 6.400000529538374e-08.\n",
      "Epoch 21/25\n",
      "562/562 [==============================] - 1345s 2s/step - loss: 0.8100 - accuracy: 0.6857 - val_loss: 0.8363 - val_accuracy: 0.6831\n",
      "\n",
      "Epoch 00021: val_loss did not improve from 0.83088\n",
      "Epoch 22/25\n",
      "562/562 [==============================] - 1353s 2s/step - loss: 0.8155 - accuracy: 0.6784 - val_loss: 0.8362 - val_accuracy: 0.6831\n",
      "\n",
      "Epoch 00022: val_loss did not improve from 0.83088\n",
      "Restoring model weights from the end of the best epoch.\n",
      "\n",
      "Epoch 00022: ReduceLROnPlateau reducing learning rate to 1.2800001059076749e-08.\n",
      "Epoch 00022: early stopping\n"
     ]
    }
   ],
   "source": [
    "history = {}\n",
    "model.compile(loss='sparse_categorical_crossentropy', \n",
    "              optimizer=Adam(learning_rate=0.001, beta_1=0.9, beta_2=0.999, epsilon=1e-07), \n",
    "              metrics=['accuracy'])\n",
    "model_save = ModelCheckpoint('./vgg_transfer_cassava',\n",
    "                             save_best_only = True, \n",
    "                             save_weights_only = False,\n",
    "                             monitor = 'val_loss', \n",
    "                             mode = 'min', verbose = 1)\n",
    "milestone = model.fit(train_gen,\n",
    "          validation_data=valid_gen,\n",
    "          epochs=epochs,\n",
    "          steps_per_epoch=train_gen.n//train_gen.batch_size,\n",
    "          validation_steps = valid_gen.n//valid_gen.batch_size,\n",
    "          callbacks = [model_save, early_stop, reduce_lr]\n",
    "          )\n",
    "history['adam'] = milestone\n"
   ]
  },
  {
   "cell_type": "code",
   "execution_count": null,
   "id": "a3d63666",
   "metadata": {
    "papermill": {
     "duration": 3.775314,
     "end_time": "2021-07-28T18:20:53.196422",
     "exception": false,
     "start_time": "2021-07-28T18:20:49.421108",
     "status": "completed"
    },
    "tags": []
   },
   "outputs": [],
   "source": []
  },
  {
   "cell_type": "code",
   "execution_count": 10,
   "id": "b36b43da",
   "metadata": {
    "execution": {
     "iopub.execute_input": "2021-07-28T18:21:00.139415Z",
     "iopub.status.busy": "2021-07-28T18:21:00.138463Z",
     "iopub.status.idle": "2021-07-28T18:21:01.058708Z",
     "shell.execute_reply": "2021-07-28T18:21:01.054786Z"
    },
    "papermill": {
     "duration": 4.397942,
     "end_time": "2021-07-28T18:21:01.058906",
     "exception": false,
     "start_time": "2021-07-28T18:20:56.660964",
     "status": "completed"
    },
    "tags": []
   },
   "outputs": [
    {
     "data": {
      "image/png": "[encoded data removed]",
      "text/plain": [
       "<Figure size 1440x1440 with 4 Axes>"
      ]
     },
     "metadata": {
      "needs_background": "light"
     },
     "output_type": "display_data"
    }
   ],
   "source": [
    "#Drawing\n",
    "plt.subplot(4, 1, 1)\n",
    "plt.title('Training loss')\n",
    "plt.xlabel('Epoch')\n",
    "\n",
    "plt.subplot(4, 1, 2)\n",
    "plt.title('Validation loss')\n",
    "plt.xlabel('Epoch')\n",
    "\n",
    "plt.subplot(4, 1, 3)\n",
    "plt.title('Training accuracy')\n",
    "plt.xlabel('Epoch')\n",
    "\n",
    "plt.subplot(4, 1, 4)\n",
    "plt.title('Validation accuracy')\n",
    "plt.xlabel('Epoch')\n",
    "\n",
    "for update_rule, milestone in history.items():\n",
    "    plt.subplot(4, 1, 1)\n",
    "    plt.plot(milestone.history['loss'], 'o', label=update_rule)\n",
    "\n",
    "    plt.subplot(4, 1, 2)\n",
    "    plt.plot(milestone.history['val_loss'], 'o', label=update_rule)\n",
    "\n",
    "    plt.subplot(4, 1, 3)\n",
    "    plt.plot(milestone.history['accuracy'], '-o', label=update_rule)\n",
    "    \n",
    "    plt.subplot(4, 1, 4)\n",
    "    plt.plot(milestone.history['val_accuracy'], '-o', label=update_rule)\n",
    "\n",
    "for i in [1, 2, 3, 4]:\n",
    "    plt.subplot(4, 1, i)\n",
    "    plt.legend(loc='upper center', ncol=4)\n",
    "plt.gcf().set_size_inches(20, 20)\n",
    "plt.show()"
   ]
  }
 ],
 "metadata": {
  "kernelspec": {
   "display_name": "Python 3",
   "language": "python",
   "name": "python3"
  },
  "language_info": {
   "codemirror_mode": {
    "name": "ipython",
    "version": 3
   },
   "file_extension": ".py",
   "mimetype": "text/x-python",
   "name": "python",
   "nbconvert_exporter": "python",
   "pygments_lexer": "ipython3",
   "version": "3.7.10"
  },
  "papermill": {
   "default_parameters": {},
   "duration": 29110.214667,
   "end_time": "2021-07-28T18:21:06.889945",
   "environment_variables": {},
   "exception": null,
   "input_path": "__notebook__.ipynb",
   "output_path": "__notebook__.ipynb",
   "parameters": {},
   "start_time": "2021-07-28T10:15:56.675278",
   "version": "2.3.3"
  }
 },
 "nbformat": 4,
 "nbformat_minor": 5
}
