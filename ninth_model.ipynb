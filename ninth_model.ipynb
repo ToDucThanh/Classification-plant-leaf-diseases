{
 "cells": [
  {
   "cell_type": "code",
   "execution_count": 1,
   "id": "9b70fd90",
   "metadata": {
    "execution": {
     "iopub.execute_input": "2021-07-24T17:03:50.422573Z",
     "iopub.status.busy": "2021-07-24T17:03:50.421774Z",
     "iopub.status.idle": "2021-07-24T17:03:54.837904Z",
     "shell.execute_reply": "2021-07-24T17:03:54.837219Z",
     "shell.execute_reply.started": "2021-07-24T16:58:35.142658Z"
    },
    "papermill": {
     "duration": 4.438141,
     "end_time": "2021-07-24T17:03:54.838078",
     "exception": false,
     "start_time": "2021-07-24T17:03:50.399937",
     "status": "completed"
    },
    "tags": []
   },
   "outputs": [],
   "source": [
    "from tensorflow.keras.layers import Dense, Flatten, BatchNormalization, LayerNormalization\n",
    "from tensorflow.keras.models import Model\n",
    "from tensorflow.keras.preprocessing import image\n",
    "from tensorflow.keras.preprocessing.image import ImageDataGenerator\n",
    "from keras.callbacks import ModelCheckpoint, EarlyStopping, ReduceLROnPlateau\n",
    "import matplotlib.pyplot as plt\n",
    "import numpy as np\n",
    "import tensorflow as tf"
   ]
  },
  {
   "cell_type": "code",
   "execution_count": 2,
   "id": "0c50dcc7",
   "metadata": {
    "execution": {
     "iopub.execute_input": "2021-07-24T17:03:54.860469Z",
     "iopub.status.busy": "2021-07-24T17:03:54.859768Z",
     "iopub.status.idle": "2021-07-24T17:03:54.862746Z",
     "shell.execute_reply": "2021-07-24T17:03:54.862302Z",
     "shell.execute_reply.started": "2021-07-24T16:59:33.111236Z"
    },
    "papermill": {
     "duration": 0.017535,
     "end_time": "2021-07-24T17:03:54.862871",
     "exception": false,
     "start_time": "2021-07-24T17:03:54.845336",
     "status": "completed"
    },
    "tags": []
   },
   "outputs": [],
   "source": [
    "size = 256\n",
    "batch_size = 128\n",
    "epochs = 20\n",
    "history = {}\n",
    "def build_model(initializer, optimizer):\n",
    "    input_shape = (size, size, 3)\n",
    "    hidden_layer_1 = 1024\n",
    "    hidden_layer_2 = 512\n",
    "    hidden_layer_3 = 64\n",
    "    num_classes = 39\n",
    "    layers = [\n",
    "        Flatten(input_shape=input_shape),\n",
    "        Dense(hidden_layer_1, kernel_initializer=initializer, activation='relu'),\n",
    "        LayerNormalization(),\n",
    "        Dense(hidden_layer_2, kernel_initializer=initializer, activation='relu'),\n",
    "        LayerNormalization(),\n",
    "        Dense(hidden_layer_3, kernel_initializer=initializer, activation='relu'),\n",
    "        LayerNormalization(),\n",
    "        Dense(num_classes, activation='softmax', kernel_initializer=initializer)\n",
    "    ]\n",
    "    model = tf.keras.Sequential(layers)\n",
    "    model.compile(\n",
    "    loss='categorical_crossentropy',\n",
    "    optimizer=optimizer,\n",
    "    metrics=['accuracy']\n",
    "    )\n",
    "    return model"
   ]
  },
  {
   "cell_type": "code",
   "execution_count": 3,
   "id": "acebb33e",
   "metadata": {
    "execution": {
     "iopub.execute_input": "2021-07-24T17:03:54.878856Z",
     "iopub.status.busy": "2021-07-24T17:03:54.878244Z",
     "iopub.status.idle": "2021-07-24T17:03:54.885750Z",
     "shell.execute_reply": "2021-07-24T17:03:54.885346Z",
     "shell.execute_reply.started": "2021-07-24T16:59:43.138165Z"
    },
    "papermill": {
     "duration": 0.016783,
     "end_time": "2021-07-24T17:03:54.885861",
     "exception": false,
     "start_time": "2021-07-24T17:03:54.869078",
     "status": "completed"
    },
    "tags": []
   },
   "outputs": [],
   "source": [
    "optim = {}\n",
    "#sgd_momentum = tf.keras.optimizers.SGD(learning_rate=0.001, momentum=0.9, nesterov=False)\n",
    "#optim['sgd_momentum'] = sgd_momentum\n",
    "adam = tf.keras.optimizers.Adam(learning_rate=0.001, beta_1=0.9, beta_2=0.999, epsilon=1e-07)\n",
    "optim['adam'] = adam\n",
    "initializer = tf.keras.initializers.HeNormal()"
   ]
  },
  {
   "cell_type": "code",
   "execution_count": 4,
   "id": "014a2a7b",
   "metadata": {
    "execution": {
     "iopub.execute_input": "2021-07-24T17:03:54.903350Z",
     "iopub.status.busy": "2021-07-24T17:03:54.902811Z",
     "iopub.status.idle": "2021-07-24T17:04:40.179362Z",
     "shell.execute_reply": "2021-07-24T17:04:40.178852Z",
     "shell.execute_reply.started": "2021-07-24T16:59:45.224173Z"
    },
    "papermill": {
     "duration": 45.287622,
     "end_time": "2021-07-24T17:04:40.179507",
     "exception": false,
     "start_time": "2021-07-24T17:03:54.891885",
     "status": "completed"
    },
    "tags": []
   },
   "outputs": [
    {
     "name": "stdout",
     "output_type": "stream",
     "text": [
      "Found 53164 images belonging to 39 classes.\n",
      "Found 11104 images belonging to 39 classes.\n"
     ]
    }
   ],
   "source": [
    "train_path = '../input/traindata/train_aug'\n",
    "test_path = '../input/testdata/test'\n",
    "train_gen = ImageDataGenerator(rescale=1./255, vertical_flip=True, brightness_range=((0.2, 0.8)))\n",
    "test_gen = ImageDataGenerator(rescale=1./255)\n",
    "train_generator = train_gen.flow_from_directory(train_path,     \n",
    "    target_size = (size, size),\n",
    "    shuffle=True, \n",
    "    batch_size=batch_size\n",
    ")\n",
    "valid_generator = test_gen.flow_from_directory(test_path,     \n",
    "    target_size = (size, size),\n",
    "    shuffle=False, \n",
    "    batch_size=batch_size\n",
    ")"
   ]
  },
  {
   "cell_type": "code",
   "execution_count": 5,
   "id": "04f99439",
   "metadata": {
    "execution": {
     "iopub.execute_input": "2021-07-24T17:04:40.198976Z",
     "iopub.status.busy": "2021-07-24T17:04:40.198013Z",
     "iopub.status.idle": "2021-07-24T17:04:40.200954Z",
     "shell.execute_reply": "2021-07-24T17:04:40.200524Z",
     "shell.execute_reply.started": "2021-07-24T17:00:46.180861Z"
    },
    "papermill": {
     "duration": 0.015146,
     "end_time": "2021-07-24T17:04:40.201057",
     "exception": false,
     "start_time": "2021-07-24T17:04:40.185911",
     "status": "completed"
    },
    "tags": []
   },
   "outputs": [],
   "source": [
    "def train_model(k, v):\n",
    "    model = build_model(initializer, v)\n",
    "    model.summary()\n",
    "    print('This is a model using:', k)\n",
    "    model_save = ModelCheckpoint('./ANN_LN_deeper' + k + '.h5',\n",
    "                                 save_best_only = True, \n",
    "                                 save_weights_only = False,\n",
    "                                 monitor = 'val_loss', \n",
    "                                 mode = 'min', verbose = 1)\n",
    "    milestone = model.fit(train_generator,\n",
    "              validation_data=valid_generator,\n",
    "              epochs=epochs,\n",
    "              steps_per_epoch=train_generator.n//train_generator.batch_size,\n",
    "              validation_steps = valid_generator.n//valid_generator.batch_size,\n",
    "              callbacks = [model_save, early_stop, reduce_lr]\n",
    "              )\n",
    "    history[k] = milestone"
   ]
  },
  {
   "cell_type": "code",
   "execution_count": 6,
   "id": "b00a3b9d",
   "metadata": {
    "execution": {
     "iopub.execute_input": "2021-07-24T17:04:40.219388Z",
     "iopub.status.busy": "2021-07-24T17:04:40.218734Z",
     "iopub.status.idle": "2021-07-24T18:53:36.957703Z",
     "shell.execute_reply": "2021-07-24T18:53:36.958308Z",
     "shell.execute_reply.started": "2021-07-24T17:00:51.267913Z"
    },
    "papermill": {
     "duration": 6536.750894,
     "end_time": "2021-07-24T18:53:36.958515",
     "exception": false,
     "start_time": "2021-07-24T17:04:40.207621",
     "status": "completed"
    },
    "tags": []
   },
   "outputs": [
    {
     "name": "stdout",
     "output_type": "stream",
     "text": [
      "Model: \"sequential\"\n",
      "_________________________________________________________________\n",
      "Layer (type)                 Output Shape              Param #   \n",
      "=================================================================\n",
      "flatten (Flatten)            (None, 196608)            0         \n",
      "_________________________________________________________________\n",
      "dense (Dense)                (None, 1024)              201327616 \n",
      "_________________________________________________________________\n",
      "layer_normalization (LayerNo (None, 1024)              2048      \n",
      "_________________________________________________________________\n",
      "dense_1 (Dense)              (None, 512)               524800    \n",
      "_________________________________________________________________\n",
      "layer_normalization_1 (Layer (None, 512)               1024      \n",
      "_________________________________________________________________\n",
      "dense_2 (Dense)              (None, 64)                32832     \n",
      "_________________________________________________________________\n",
      "layer_normalization_2 (Layer (None, 64)                128       \n",
      "_________________________________________________________________\n",
      "dense_3 (Dense)              (None, 39)                2535      \n",
      "=================================================================\n",
      "Total params: 201,890,983\n",
      "Trainable params: 201,890,983\n",
      "Non-trainable params: 0\n",
      "_________________________________________________________________\n",
      "This is a model using: adam\n",
      "Epoch 1/20\n",
      "415/415 [==============================] - 605s 1s/step - loss: 3.4021 - accuracy: 0.1233 - val_loss: 2.3430 - val_accuracy: 0.3332\n",
      "\n",
      "Epoch 00001: val_loss improved from inf to 2.34297, saving model to ./ANN_LN_deeperadam.h5\n",
      "Epoch 2/20\n",
      "415/415 [==============================] - 293s 705ms/step - loss: 2.3694 - accuracy: 0.3234 - val_loss: 1.8992 - val_accuracy: 0.4579\n",
      "\n",
      "Epoch 00002: val_loss improved from 2.34297 to 1.89922, saving model to ./ANN_LN_deeperadam.h5\n",
      "Epoch 3/20\n",
      "415/415 [==============================] - 307s 739ms/step - loss: 1.9885 - accuracy: 0.4250 - val_loss: 1.7172 - val_accuracy: 0.5072\n",
      "\n",
      "Epoch 00003: val_loss improved from 1.89922 to 1.71716, saving model to ./ANN_LN_deeperadam.h5\n",
      "Epoch 4/20\n",
      "415/415 [==============================] - 307s 739ms/step - loss: 1.6703 - accuracy: 0.5113 - val_loss: 1.4109 - val_accuracy: 0.5825\n",
      "\n",
      "Epoch 00004: val_loss improved from 1.71716 to 1.41094, saving model to ./ANN_LN_deeperadam.h5\n",
      "Epoch 5/20\n",
      "415/415 [==============================] - 315s 759ms/step - loss: 1.4529 - accuracy: 0.5676 - val_loss: 1.2658 - val_accuracy: 0.6163\n",
      "\n",
      "Epoch 00005: val_loss improved from 1.41094 to 1.26579, saving model to ./ANN_LN_deeperadam.h5\n",
      "Epoch 6/20\n",
      "415/415 [==============================] - 319s 769ms/step - loss: 1.3002 - accuracy: 0.6063 - val_loss: 1.1770 - val_accuracy: 0.6463\n",
      "\n",
      "Epoch 00006: val_loss improved from 1.26579 to 1.17703, saving model to ./ANN_LN_deeperadam.h5\n",
      "Epoch 7/20\n",
      "415/415 [==============================] - 308s 742ms/step - loss: 1.1895 - accuracy: 0.6384 - val_loss: 1.2786 - val_accuracy: 0.6106\n",
      "\n",
      "Epoch 00007: val_loss did not improve from 1.17703\n",
      "Epoch 8/20\n",
      "415/415 [==============================] - 295s 710ms/step - loss: 1.1272 - accuracy: 0.6572 - val_loss: 1.0597 - val_accuracy: 0.6764\n",
      "\n",
      "Epoch 00008: val_loss improved from 1.17703 to 1.05974, saving model to ./ANN_LN_deeperadam.h5\n",
      "Epoch 9/20\n",
      "415/415 [==============================] - 300s 723ms/step - loss: 1.0337 - accuracy: 0.6825 - val_loss: 0.9265 - val_accuracy: 0.7161\n",
      "\n",
      "Epoch 00009: val_loss improved from 1.05974 to 0.92647, saving model to ./ANN_LN_deeperadam.h5\n",
      "Epoch 10/20\n",
      "415/415 [==============================] - 302s 729ms/step - loss: 0.9709 - accuracy: 0.7018 - val_loss: 0.9379 - val_accuracy: 0.7117\n",
      "\n",
      "Epoch 00010: val_loss did not improve from 0.92647\n",
      "Epoch 11/20\n",
      "415/415 [==============================] - 294s 707ms/step - loss: 0.9191 - accuracy: 0.7152 - val_loss: 0.8543 - val_accuracy: 0.7390\n",
      "\n",
      "Epoch 00011: val_loss improved from 0.92647 to 0.85427, saving model to ./ANN_LN_deeperadam.h5\n",
      "Epoch 12/20\n",
      "415/415 [==============================] - 304s 732ms/step - loss: 0.8857 - accuracy: 0.7268 - val_loss: 0.8004 - val_accuracy: 0.7550\n",
      "\n",
      "Epoch 00012: val_loss improved from 0.85427 to 0.80039, saving model to ./ANN_LN_deeperadam.h5\n",
      "Epoch 13/20\n",
      "415/415 [==============================] - 307s 739ms/step - loss: 0.8428 - accuracy: 0.7374 - val_loss: 0.7977 - val_accuracy: 0.7501\n",
      "\n",
      "Epoch 00013: val_loss improved from 0.80039 to 0.79767, saving model to ./ANN_LN_deeperadam.h5\n",
      "Epoch 14/20\n",
      "415/415 [==============================] - 306s 738ms/step - loss: 0.8145 - accuracy: 0.7432 - val_loss: 0.8106 - val_accuracy: 0.7496\n",
      "\n",
      "Epoch 00014: val_loss did not improve from 0.79767\n",
      "Epoch 15/20\n",
      "415/415 [==============================] - 295s 710ms/step - loss: 0.7761 - accuracy: 0.7602 - val_loss: 0.7734 - val_accuracy: 0.7602\n",
      "\n",
      "Epoch 00015: val_loss improved from 0.79767 to 0.77336, saving model to ./ANN_LN_deeperadam.h5\n",
      "Epoch 16/20\n",
      "415/415 [==============================] - 305s 734ms/step - loss: 0.7493 - accuracy: 0.7674 - val_loss: 0.7977 - val_accuracy: 0.7524\n",
      "\n",
      "Epoch 00016: val_loss did not improve from 0.77336\n",
      "Epoch 17/20\n",
      "415/415 [==============================] - 298s 718ms/step - loss: 0.7159 - accuracy: 0.7765 - val_loss: 0.7510 - val_accuracy: 0.7638\n",
      "\n",
      "Epoch 00017: val_loss improved from 0.77336 to 0.75099, saving model to ./ANN_LN_deeperadam.h5\n",
      "Epoch 18/20\n",
      "415/415 [==============================] - 305s 736ms/step - loss: 0.6902 - accuracy: 0.7805 - val_loss: 0.8148 - val_accuracy: 0.7450\n",
      "\n",
      "Epoch 00018: val_loss did not improve from 0.75099\n",
      "Epoch 19/20\n",
      "415/415 [==============================] - 299s 719ms/step - loss: 0.6571 - accuracy: 0.7883 - val_loss: 0.7848 - val_accuracy: 0.7580\n",
      "\n",
      "Epoch 00019: val_loss did not improve from 0.75099\n",
      "\n",
      "Epoch 00019: ReduceLROnPlateau reducing learning rate to 0.00020000000949949026.\n",
      "Epoch 20/20\n",
      "415/415 [==============================] - 298s 718ms/step - loss: 0.5428 - accuracy: 0.8295 - val_loss: 0.6029 - val_accuracy: 0.8104\n",
      "\n",
      "Epoch 00020: val_loss improved from 0.75099 to 0.60289, saving model to ./ANN_LN_deeperadam.h5\n"
     ]
    }
   ],
   "source": [
    "\n",
    "early_stop = EarlyStopping(monitor = 'val_loss', min_delta = 0.001, \n",
    "                               patience = 5, mode = 'min', verbose = 1,\n",
    "                               restore_best_weights = True)\n",
    "reduce_lr = ReduceLROnPlateau(monitor = 'val_loss', factor = 0.2, \n",
    "                                      patience = 2, min_delta = 0.001, \n",
    "                                      mode = 'min', verbose = 1)\n",
    "\n",
    "for k, v in optim.items():\n",
    "    train_model(k, v)\n"
   ]
  },
  {
   "cell_type": "code",
   "execution_count": 7,
   "id": "bc487173",
   "metadata": {
    "execution": {
     "iopub.execute_input": "2021-07-24T18:53:53.082104Z",
     "iopub.status.busy": "2021-07-24T18:53:53.081195Z",
     "iopub.status.idle": "2021-07-24T18:53:53.984006Z",
     "shell.execute_reply": "2021-07-24T18:53:53.984871Z"
    },
    "papermill": {
     "duration": 14.798111,
     "end_time": "2021-07-24T18:53:53.985134",
     "exception": false,
     "start_time": "2021-07-24T18:53:39.187023",
     "status": "completed"
    },
    "tags": []
   },
   "outputs": [
    {
     "data": {
      "image/png": "[encoded data removed]",
      "text/plain": [
       "<Figure size 1440x1440 with 4 Axes>"
      ]
     },
     "metadata": {
      "needs_background": "light"
     },
     "output_type": "display_data"
    }
   ],
   "source": [
    "#Drawing\n",
    "plt.subplot(4, 1, 1)\n",
    "plt.title('Training loss')\n",
    "plt.xlabel('Epoch')\n",
    "\n",
    "plt.subplot(4, 1, 2)\n",
    "plt.title('Validation loss')\n",
    "plt.xlabel('Epoch')\n",
    "\n",
    "plt.subplot(4, 1, 3)\n",
    "plt.title('Training accuracy')\n",
    "plt.xlabel('Epoch')\n",
    "\n",
    "plt.subplot(4, 1, 4)\n",
    "plt.title('Validation accuracy')\n",
    "plt.xlabel('Epoch')\n",
    "\n",
    "for update_rule, milestone in history.items():\n",
    "    plt.subplot(4, 1, 1)\n",
    "    plt.plot(milestone.history['loss'], 'o', label=update_rule)\n",
    "\n",
    "    plt.subplot(4, 1, 2)\n",
    "    plt.plot(milestone.history['val_loss'], 'o', label=update_rule)\n",
    "    plt.subplot(4, 1, 3)\n",
    "    plt.plot(milestone.history['accuracy'], '-o', label=update_rule)\n",
    "    \n",
    "    plt.subplot(4, 1, 4)\n",
    "    plt.plot(milestone.history['val_accuracy'], '-o', label=update_rule)\n",
    "\n",
    "for i in [1, 2, 3, 4]:\n",
    "    plt.subplot(4, 1, i)\n",
    "    plt.legend(loc='upper center', ncol=4)\n",
    "plt.gcf().set_size_inches(20, 20)\n",
    "plt.show()"
   ]
  }
 ],
 "metadata": {
  "kernelspec": {
   "display_name": "Python 3",
   "language": "python",
   "name": "python3"
  },
  "language_info": {
   "codemirror_mode": {
    "name": "ipython",
    "version": 3
   },
   "file_extension": ".py",
   "mimetype": "text/x-python",
   "name": "python",
   "nbconvert_exporter": "python",
   "pygments_lexer": "ipython3",
   "version": "3.7.10"
  },
  "papermill": {
   "default_parameters": {},
   "duration": 6615.373879,
   "end_time": "2021-07-24T18:53:58.783134",
   "environment_variables": {},
   "exception": null,
   "input_path": "__notebook__.ipynb",
   "output_path": "__notebook__.ipynb",
   "parameters": {},
   "start_time": "2021-07-24T17:03:43.409255",
   "version": "2.3.3"
  }
 },
 "nbformat": 4,
 "nbformat_minor": 5
}
