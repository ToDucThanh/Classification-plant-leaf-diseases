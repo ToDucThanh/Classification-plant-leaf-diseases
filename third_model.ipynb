{
 "cells": [
  {
   "cell_type": "code",
   "execution_count": 1,
   "id": "b43695b6",
   "metadata": {
    "execution": {
     "iopub.execute_input": "2021-07-20T03:30:20.920746Z",
     "iopub.status.busy": "2021-07-20T03:30:20.919220Z",
     "iopub.status.idle": "2021-07-20T03:30:26.080375Z",
     "shell.execute_reply": "2021-07-20T03:30:26.079283Z",
     "shell.execute_reply.started": "2021-07-20T03:26:40.211687Z"
    },
    "papermill": {
     "duration": 5.173106,
     "end_time": "2021-07-20T03:30:26.080543",
     "exception": false,
     "start_time": "2021-07-20T03:30:20.907437",
     "status": "completed"
    },
    "tags": []
   },
   "outputs": [],
   "source": [
    "from tensorflow.keras.layers import Input, Dense, Flatten\n",
    "from tensorflow.keras.models import Model\n",
    "from tensorflow.keras.preprocessing import image\n",
    "from tensorflow.keras.preprocessing.image import ImageDataGenerator\n",
    "from glob import glob\n",
    "import keras\n",
    "from keras.callbacks import ModelCheckpoint, EarlyStopping, ReduceLROnPlateau\n",
    "import matplotlib.pyplot as plt\n",
    "import numpy as np\n",
    "import seaborn as sns\n",
    "import tensorflow as tf\n"
   ]
  },
  {
   "cell_type": "code",
   "execution_count": 2,
   "id": "8354a09a",
   "metadata": {
    "execution": {
     "iopub.execute_input": "2021-07-20T03:30:26.102812Z",
     "iopub.status.busy": "2021-07-20T03:30:26.101110Z",
     "iopub.status.idle": "2021-07-20T03:30:26.103550Z",
     "shell.execute_reply": "2021-07-20T03:30:26.104121Z",
     "shell.execute_reply.started": "2021-07-20T03:26:52.714219Z"
    },
    "papermill": {
     "duration": 0.016632,
     "end_time": "2021-07-20T03:30:26.104284",
     "exception": false,
     "start_time": "2021-07-20T03:30:26.087652",
     "status": "completed"
    },
    "tags": []
   },
   "outputs": [],
   "source": [
    "size = 256\n",
    "batch_size = 128\n",
    "epochs = 22\n",
    "history = {}\n",
    "def build_model(initializer):\n",
    "    input_shape = (size, size, 3)\n",
    "    hidden_layer_1 = 1024\n",
    "    hidden_layer_2 = 512\n",
    "    num_classes = 39\n",
    "    layers = [\n",
    "        Flatten(input_shape=input_shape),\n",
    "        Dense(hidden_layer_1, activation='relu', kernel_initializer=initializer),\n",
    "        Dense(hidden_layer_2, activation='relu', kernel_initializer=initializer),\n",
    "        Dense(num_classes, activation='softmax', kernel_initializer=initializer)\n",
    "    ]\n",
    "    model = tf.keras.Sequential(layers)\n",
    "    model.compile(\n",
    "    loss='categorical_crossentropy',\n",
    "    optimizer=tf.keras.optimizers.SGD(learning_rate=0.001, momentum=0.9, nesterov=False),\n",
    "    metrics=['accuracy']\n",
    "    )\n",
    "    return model"
   ]
  },
  {
   "cell_type": "code",
   "execution_count": 3,
   "id": "7bf7daf5",
   "metadata": {
    "execution": {
     "iopub.execute_input": "2021-07-20T03:30:26.122341Z",
     "iopub.status.busy": "2021-07-20T03:30:26.120982Z",
     "iopub.status.idle": "2021-07-20T03:30:26.123373Z",
     "shell.execute_reply": "2021-07-20T03:30:26.123896Z",
     "shell.execute_reply.started": "2021-07-20T03:27:00.098735Z"
    },
    "papermill": {
     "duration": 0.013171,
     "end_time": "2021-07-20T03:30:26.124042",
     "exception": false,
     "start_time": "2021-07-20T03:30:26.110871",
     "status": "completed"
    },
    "tags": []
   },
   "outputs": [],
   "source": [
    "#optim = {}\n",
    "#sgd = tf.keras.optimizers.SGD(learning_rate=0.01)\n",
    "#optim['sgd'] = sgd\n",
    "#sgd_momentum = tf.keras.optimizers.SGD(learning_rate=0.01, momentum=0.9, nesterov=False)\n",
    "#optim['sgd_momentum'] = sgd_momentum\n",
    "#rmsprop = tf.keras.optimizers.RMSprop(\n",
    "    #learning_rate=0.01, rho=0.9, momentum=0.0, epsilon=1e-07)\n",
    "#optim['rmsprop'] = rmsprop\n",
    "#adam = tf.keras.optimizers.Adam(learning_rate=0.001, beta_1=0.9, beta_2=0.999, epsilon=1e-07)\n",
    "#optim['adam'] = adam\n",
    "#lr = [1., 0.1, 0.01, 1e-3, 1e-4]\n",
    "initializer = tf.keras.initializers.GlorotNormal()"
   ]
  },
  {
   "cell_type": "code",
   "execution_count": 4,
   "id": "d71b8d96",
   "metadata": {
    "execution": {
     "iopub.execute_input": "2021-07-20T03:30:26.141540Z",
     "iopub.status.busy": "2021-07-20T03:30:26.141011Z",
     "iopub.status.idle": "2021-07-20T03:31:14.543005Z",
     "shell.execute_reply": "2021-07-20T03:31:14.543993Z",
     "shell.execute_reply.started": "2021-07-20T03:27:02.226856Z"
    },
    "papermill": {
     "duration": 48.413849,
     "end_time": "2021-07-20T03:31:14.544234",
     "exception": false,
     "start_time": "2021-07-20T03:30:26.130385",
     "status": "completed"
    },
    "tags": []
   },
   "outputs": [
    {
     "name": "stdout",
     "output_type": "stream",
     "text": [
      "Found 53164 images belonging to 39 classes.\n",
      "Found 11104 images belonging to 39 classes.\n"
     ]
    }
   ],
   "source": [
    "train_path = '../input/official-leaf/train_aug'\n",
    "test_path = '../input/official-test/test'\n",
    "gen = ImageDataGenerator(rescale=1./255)\n",
    "train_generator = gen.flow_from_directory(train_path,     \n",
    "    target_size = (size, size),\n",
    "    shuffle=True, \n",
    "    batch_size=batch_size\n",
    ")\n",
    "valid_generator = gen.flow_from_directory(test_path,     \n",
    "    target_size = (size, size),\n",
    "    shuffle=False, \n",
    "    batch_size=batch_size\n",
    ")"
   ]
  },
  {
   "cell_type": "code",
   "execution_count": 5,
   "id": "d18da04a",
   "metadata": {
    "execution": {
     "iopub.execute_input": "2021-07-20T03:31:14.579040Z",
     "iopub.status.busy": "2021-07-20T03:31:14.577364Z",
     "iopub.status.idle": "2021-07-20T03:31:14.580417Z",
     "shell.execute_reply": "2021-07-20T03:31:14.579786Z",
     "shell.execute_reply.started": "2021-07-20T03:27:52.944702Z"
    },
    "papermill": {
     "duration": 0.024819,
     "end_time": "2021-07-20T03:31:14.580572",
     "exception": false,
     "start_time": "2021-07-20T03:31:14.555753",
     "status": "completed"
    },
    "tags": []
   },
   "outputs": [],
   "source": [
    "def train_model():\n",
    "    model = build_model(initializer)\n",
    "    model.summary()\n",
    "    print('This is a SGD_momentum model using lr of: 0.001')\n",
    "    print()\n",
    "    model_save = ModelCheckpoint('./ANN_SGD_momentum_official_lr_0.001.h5',\n",
    "                                 save_best_only = True, \n",
    "                                 save_weights_only = False,\n",
    "                                 monitor = 'val_loss', \n",
    "                                 mode = 'min', verbose = 1)\n",
    "\n",
    "    milestones = model.fit(train_generator,\n",
    "              validation_data=valid_generator,\n",
    "              epochs=epochs,\n",
    "              steps_per_epoch=train_generator.n//train_generator.batch_size,\n",
    "              validation_steps = valid_generator.n//valid_generator.batch_size,\n",
    "              callbacks = [model_save, reduce_lr, early_stop]\n",
    "              )\n",
    "    history['SGD_momentum_lr_0.001'] = milestones"
   ]
  },
  {
   "cell_type": "code",
   "execution_count": 6,
   "id": "e816b609",
   "metadata": {
    "execution": {
     "iopub.execute_input": "2021-07-20T03:31:14.616475Z",
     "iopub.status.busy": "2021-07-20T03:31:14.615599Z",
     "iopub.status.idle": "2021-07-20T05:22:36.977150Z",
     "shell.execute_reply": "2021-07-20T05:22:36.976374Z",
     "shell.execute_reply.started": "2021-07-20T03:27:57.798524Z"
    },
    "papermill": {
     "duration": 6682.379371,
     "end_time": "2021-07-20T05:22:36.977351",
     "exception": false,
     "start_time": "2021-07-20T03:31:14.597980",
     "status": "completed"
    },
    "tags": []
   },
   "outputs": [
    {
     "name": "stdout",
     "output_type": "stream",
     "text": [
      "Model: \"sequential\"\n",
      "_________________________________________________________________\n",
      "Layer (type)                 Output Shape              Param #   \n",
      "=================================================================\n",
      "flatten (Flatten)            (None, 196608)            0         \n",
      "_________________________________________________________________\n",
      "dense (Dense)                (None, 1024)              201327616 \n",
      "_________________________________________________________________\n",
      "dense_1 (Dense)              (None, 512)               524800    \n",
      "_________________________________________________________________\n",
      "dense_2 (Dense)              (None, 39)                20007     \n",
      "=================================================================\n",
      "Total params: 201,872,423\n",
      "Trainable params: 201,872,423\n",
      "Non-trainable params: 0\n",
      "_________________________________________________________________\n",
      "This is a SGD_momentum model using lr of: 0.001\n",
      "\n",
      "Epoch 1/22\n",
      "415/415 [==============================] - 661s 2s/step - loss: 2.7447 - accuracy: 0.2844 - val_loss: 1.6218 - val_accuracy: 0.5316\n",
      "\n",
      "Epoch 00001: val_loss improved from inf to 1.62183, saving model to ./ANN_SGD_momentum_official_lr_0.001.h5\n",
      "Epoch 2/22\n",
      "415/415 [==============================] - 278s 671ms/step - loss: 1.6716 - accuracy: 0.5196 - val_loss: 1.3489 - val_accuracy: 0.5970\n",
      "\n",
      "Epoch 00002: val_loss improved from 1.62183 to 1.34887, saving model to ./ANN_SGD_momentum_official_lr_0.001.h5\n",
      "Epoch 3/22\n",
      "415/415 [==============================] - 284s 685ms/step - loss: 1.4186 - accuracy: 0.5801 - val_loss: 1.2740 - val_accuracy: 0.6245\n",
      "\n",
      "Epoch 00003: val_loss improved from 1.34887 to 1.27399, saving model to ./ANN_SGD_momentum_official_lr_0.001.h5\n",
      "Epoch 4/22\n",
      "415/415 [==============================] - 286s 689ms/step - loss: 1.2433 - accuracy: 0.6314 - val_loss: 1.2317 - val_accuracy: 0.6413\n",
      "\n",
      "Epoch 00004: val_loss improved from 1.27399 to 1.23168, saving model to ./ANN_SGD_momentum_official_lr_0.001.h5\n",
      "Epoch 5/22\n",
      "415/415 [==============================] - 294s 708ms/step - loss: 1.1328 - accuracy: 0.6576 - val_loss: 1.0500 - val_accuracy: 0.6912\n",
      "\n",
      "Epoch 00005: val_loss improved from 1.23168 to 1.05004, saving model to ./ANN_SGD_momentum_official_lr_0.001.h5\n",
      "Epoch 6/22\n",
      "415/415 [==============================] - 290s 699ms/step - loss: 1.0229 - accuracy: 0.6932 - val_loss: 0.9754 - val_accuracy: 0.7116\n",
      "\n",
      "Epoch 00006: val_loss improved from 1.05004 to 0.97541, saving model to ./ANN_SGD_momentum_official_lr_0.001.h5\n",
      "Epoch 7/22\n",
      "415/415 [==============================] - 292s 704ms/step - loss: 0.9441 - accuracy: 0.7159 - val_loss: 0.9025 - val_accuracy: 0.7264\n",
      "\n",
      "Epoch 00007: val_loss improved from 0.97541 to 0.90253, saving model to ./ANN_SGD_momentum_official_lr_0.001.h5\n",
      "Epoch 8/22\n",
      "415/415 [==============================] - 293s 706ms/step - loss: 0.8801 - accuracy: 0.7341 - val_loss: 0.9304 - val_accuracy: 0.7173\n",
      "\n",
      "Epoch 00008: val_loss did not improve from 0.90253\n",
      "Epoch 9/22\n",
      "415/415 [==============================] - 248s 597ms/step - loss: 0.8275 - accuracy: 0.7469 - val_loss: 0.8295 - val_accuracy: 0.7477\n",
      "\n",
      "Epoch 00009: val_loss improved from 0.90253 to 0.82951, saving model to ./ANN_SGD_momentum_official_lr_0.001.h5\n",
      "Epoch 10/22\n",
      "415/415 [==============================] - 267s 643ms/step - loss: 0.7863 - accuracy: 0.7606 - val_loss: 0.8041 - val_accuracy: 0.7518\n",
      "\n",
      "Epoch 00010: val_loss improved from 0.82951 to 0.80407, saving model to ./ANN_SGD_momentum_official_lr_0.001.h5\n",
      "Epoch 11/22\n",
      "415/415 [==============================] - 288s 694ms/step - loss: 0.7363 - accuracy: 0.7740 - val_loss: 0.7805 - val_accuracy: 0.7616\n",
      "\n",
      "Epoch 00011: val_loss improved from 0.80407 to 0.78049, saving model to ./ANN_SGD_momentum_official_lr_0.001.h5\n",
      "Epoch 12/22\n",
      "415/415 [==============================] - 295s 712ms/step - loss: 0.6868 - accuracy: 0.7890 - val_loss: 0.7440 - val_accuracy: 0.7711\n",
      "\n",
      "Epoch 00012: val_loss improved from 0.78049 to 0.74399, saving model to ./ANN_SGD_momentum_official_lr_0.001.h5\n",
      "Epoch 13/22\n",
      "415/415 [==============================] - 275s 663ms/step - loss: 0.6470 - accuracy: 0.8005 - val_loss: 0.7249 - val_accuracy: 0.7781\n",
      "\n",
      "Epoch 00013: val_loss improved from 0.74399 to 0.72488, saving model to ./ANN_SGD_momentum_official_lr_0.001.h5\n",
      "Epoch 14/22\n",
      "415/415 [==============================] - 273s 658ms/step - loss: 0.6203 - accuracy: 0.8083 - val_loss: 0.7042 - val_accuracy: 0.7851\n",
      "\n",
      "Epoch 00014: val_loss improved from 0.72488 to 0.70418, saving model to ./ANN_SGD_momentum_official_lr_0.001.h5\n",
      "Epoch 15/22\n",
      "415/415 [==============================] - 284s 684ms/step - loss: 0.5825 - accuracy: 0.8222 - val_loss: 0.7295 - val_accuracy: 0.7794\n",
      "\n",
      "Epoch 00015: val_loss did not improve from 0.70418\n",
      "Epoch 16/22\n",
      "415/415 [==============================] - 271s 654ms/step - loss: 0.5487 - accuracy: 0.8320 - val_loss: 0.7164 - val_accuracy: 0.7790\n",
      "\n",
      "Epoch 00016: val_loss did not improve from 0.70418\n",
      "\n",
      "Epoch 00016: ReduceLROnPlateau reducing learning rate to 0.00020000000949949026.\n",
      "Epoch 17/22\n",
      "415/415 [==============================] - 282s 679ms/step - loss: 0.4643 - accuracy: 0.8618 - val_loss: 0.5925 - val_accuracy: 0.8178\n",
      "\n",
      "Epoch 00017: val_loss improved from 0.70418 to 0.59246, saving model to ./ANN_SGD_momentum_official_lr_0.001.h5\n",
      "Epoch 18/22\n",
      "415/415 [==============================] - 289s 696ms/step - loss: 0.4130 - accuracy: 0.8818 - val_loss: 0.5944 - val_accuracy: 0.8188\n",
      "\n",
      "Epoch 00018: val_loss did not improve from 0.59246\n",
      "Epoch 19/22\n",
      "415/415 [==============================] - 288s 693ms/step - loss: 0.4013 - accuracy: 0.8870 - val_loss: 0.6000 - val_accuracy: 0.8160\n",
      "\n",
      "Epoch 00019: val_loss did not improve from 0.59246\n",
      "\n",
      "Epoch 00019: ReduceLROnPlateau reducing learning rate to 4.0000001899898055e-05.\n",
      "Epoch 20/22\n",
      "415/415 [==============================] - 285s 686ms/step - loss: 0.3848 - accuracy: 0.8919 - val_loss: 0.5798 - val_accuracy: 0.8233\n",
      "\n",
      "Epoch 00020: val_loss improved from 0.59246 to 0.57984, saving model to ./ANN_SGD_momentum_official_lr_0.001.h5\n",
      "Epoch 21/22\n",
      "415/415 [==============================] - 273s 659ms/step - loss: 0.3751 - accuracy: 0.8943 - val_loss: 0.5800 - val_accuracy: 0.8239\n",
      "\n",
      "Epoch 00021: val_loss did not improve from 0.57984\n",
      "Epoch 22/22\n",
      "415/415 [==============================] - 281s 678ms/step - loss: 0.3730 - accuracy: 0.8952 - val_loss: 0.5803 - val_accuracy: 0.8241\n",
      "\n",
      "Epoch 00022: val_loss did not improve from 0.57984\n",
      "\n",
      "Epoch 00022: ReduceLROnPlateau reducing learning rate to 8.000000525498762e-06.\n"
     ]
    }
   ],
   "source": [
    "early_stop = EarlyStopping(monitor = 'val_loss', min_delta = 0.001, \n",
    "                               patience = 5, mode = 'min', verbose = 1,\n",
    "                               restore_best_weights = True)\n",
    "reduce_lr = ReduceLROnPlateau(monitor = 'val_loss', factor = 0.2, \n",
    "                                      patience = 2, min_delta = 0.001, \n",
    "                                      mode = 'min', verbose = 1)\n",
    "train_model()"
   ]
  },
  {
   "cell_type": "code",
   "execution_count": 7,
   "id": "47fa7664",
   "metadata": {
    "execution": {
     "iopub.execute_input": "2021-07-20T05:22:41.921365Z",
     "iopub.status.busy": "2021-07-20T05:22:41.904724Z",
     "iopub.status.idle": "2021-07-20T05:22:42.466220Z",
     "shell.execute_reply": "2021-07-20T05:22:42.465753Z",
     "shell.execute_reply.started": "2021-07-18T18:09:16.673894Z"
    },
    "papermill": {
     "duration": 3.059436,
     "end_time": "2021-07-20T05:22:42.466336",
     "exception": false,
     "start_time": "2021-07-20T05:22:39.406900",
     "status": "completed"
    },
    "tags": []
   },
   "outputs": [
    {
     "data": {
      "image/png": "[encoded data removed]",
      "text/plain": [
       "<Figure size 1440x1440 with 4 Axes>"
      ]
     },
     "metadata": {
      "needs_background": "light"
     },
     "output_type": "display_data"
    }
   ],
   "source": [
    "#Drawing\n",
    "plt.subplot(4, 1, 1)\n",
    "plt.title('Training loss')\n",
    "plt.xlabel('Epoch')\n",
    "\n",
    "plt.subplot(4, 1, 2)\n",
    "plt.title('Validation loss')\n",
    "plt.xlabel('Epoch')\n",
    "\n",
    "plt.subplot(4, 1, 3)\n",
    "plt.title('Training accuracy')\n",
    "plt.xlabel('Epoch')\n",
    "\n",
    "plt.subplot(4, 1, 4)\n",
    "plt.title('Validation accuracy')\n",
    "plt.xlabel('Epoch')\n",
    "\n",
    "for update_rule, milestone in history.items():\n",
    "    plt.subplot(4, 1, 1)\n",
    "    plt.plot(milestone.history['loss'], 'o', label=update_rule)\n",
    "\n",
    "    plt.subplot(4, 1, 2)\n",
    "    plt.plot(milestone.history['val_loss'], 'o', label=update_rule)\n",
    "\n",
    "    plt.subplot(4, 1, 3)\n",
    "    plt.plot(milestone.history['accuracy'], '-o', label=update_rule)\n",
    "    \n",
    "    plt.subplot(4, 1, 4)\n",
    "    plt.plot(milestone.history['val_accuracy'], '-o', label=update_rule)\n",
    "\n",
    "for i in [1, 2, 3, 4]:\n",
    "    plt.subplot(4, 1, i)\n",
    "    plt.legend(loc='upper center', ncol=4)\n",
    "plt.gcf().set_size_inches(20, 20)\n",
    "plt.show()"
   ]
  }
 ],
 "metadata": {
  "kernelspec": {
   "display_name": "Python 3",
   "language": "python",
   "name": "python3"
  },
  "language_info": {
   "codemirror_mode": {
    "name": "ipython",
    "version": 3
   },
   "file_extension": ".py",
   "mimetype": "text/x-python",
   "name": "python",
   "nbconvert_exporter": "python",
   "pygments_lexer": "ipython3",
   "version": "3.7.10"
  },
  "papermill": {
   "default_parameters": {},
   "duration": 6753.25444,
   "end_time": "2021-07-20T05:22:47.289298",
   "environment_variables": {},
   "exception": null,
   "input_path": "__notebook__.ipynb",
   "output_path": "__notebook__.ipynb",
   "parameters": {},
   "start_time": "2021-07-20T03:30:14.034858",
   "version": "2.3.3"
  }
 },
 "nbformat": 4,
 "nbformat_minor": 5
}
