{
 "cells": [
  {
   "cell_type": "code",
   "execution_count": 1,
   "id": "88a096e9",
   "metadata": {
    "execution": {
     "iopub.execute_input": "2021-07-27T18:06:18.034996Z",
     "iopub.status.busy": "2021-07-27T18:06:18.034419Z",
     "iopub.status.idle": "2021-07-27T18:06:22.416739Z",
     "shell.execute_reply": "2021-07-27T18:06:22.415814Z",
     "shell.execute_reply.started": "2021-07-27T17:31:17.018064Z"
    },
    "papermill": {
     "duration": 4.403678,
     "end_time": "2021-07-27T18:06:22.416891",
     "exception": false,
     "start_time": "2021-07-27T18:06:18.013213",
     "status": "completed"
    },
    "tags": []
   },
   "outputs": [],
   "source": [
    "import tensorflow as tf\n",
    "from tensorflow.keras.layers import Input, Conv2D, ZeroPadding2D, Flatten, Dense, Activation, Add, BatchNormalization, MaxPooling2D \n",
    "from tensorflow.keras.models import Model\n",
    "from tensorflow.keras.layers import GlobalAveragePooling2D\n",
    "#from tensorflow.keras import activations\n",
    "from tensorflow.keras.optimizers import Adam\n",
    "from tensorflow.keras.preprocessing.image import ImageDataGenerator\n",
    "from tensorflow.keras.callbacks import ModelCheckpoint, EarlyStopping, ReduceLROnPlateau\n",
    "import matplotlib.pyplot as plt\n",
    "import numpy as np\n",
    "import pandas as pd\n",
    "#from tensorflow.keras.regularizers import l2 \n"
   ]
  },
  {
   "cell_type": "code",
   "execution_count": 2,
   "id": "b6cecf26",
   "metadata": {
    "execution": {
     "iopub.execute_input": "2021-07-27T18:06:22.443322Z",
     "iopub.status.busy": "2021-07-27T18:06:22.442809Z",
     "iopub.status.idle": "2021-07-27T18:06:22.446555Z",
     "shell.execute_reply": "2021-07-27T18:06:22.446156Z",
     "shell.execute_reply.started": "2021-07-27T17:31:22.774562Z"
    },
    "papermill": {
     "duration": 0.021108,
     "end_time": "2021-07-27T18:06:22.446676",
     "exception": false,
     "start_time": "2021-07-27T18:06:22.425568",
     "status": "completed"
    },
    "tags": []
   },
   "outputs": [],
   "source": [
    "class Residual(tf.keras.Model):\n",
    "  def __init__(self, num_filters, use_1x1=False, strides=1):\n",
    "    super(Residual, self).__init__()\n",
    "    self.conv1 = Conv2D(num_filters, kernel_size=3, strides=strides, padding='same')\n",
    "    self.batchnorm = BatchNormalization()\n",
    "    self.activation = Activation('relu')\n",
    "    self.conv2 = Conv2D(num_filters, kernel_size=3, strides=1, padding='same')\n",
    "    if use_1x1:\n",
    "      self.conv3 = Conv2D(num_filters, kernel_size=1, strides=strides, padding='valid')\n",
    "    else: \n",
    "      self.conv3 = None\n",
    "    \n",
    "  def call(self, x):\n",
    "    shortcut = x\n",
    "    x = self.conv1(x)\n",
    "    x = self.batchnorm(x)\n",
    "    x = self.activation(x)\n",
    "    x = self.conv2(x)\n",
    "    x = self.batchnorm(x)\n",
    "    if self.conv3:\n",
    "      shortcut = self.conv3(shortcut)\n",
    "    return self.activation(x + shortcut)"
   ]
  },
  {
   "cell_type": "code",
   "execution_count": 3,
   "id": "c4c8b269",
   "metadata": {
    "execution": {
     "iopub.execute_input": "2021-07-27T18:06:22.467201Z",
     "iopub.status.busy": "2021-07-27T18:06:22.466704Z",
     "iopub.status.idle": "2021-07-27T18:06:22.531912Z",
     "shell.execute_reply": "2021-07-27T18:06:22.531438Z",
     "shell.execute_reply.started": "2021-07-27T17:32:05.587738Z"
    },
    "papermill": {
     "duration": 0.077147,
     "end_time": "2021-07-27T18:06:22.532036",
     "exception": false,
     "start_time": "2021-07-27T18:06:22.454889",
     "status": "completed"
    },
    "tags": []
   },
   "outputs": [],
   "source": [
    "optim = {}\n",
    "adam = tf.keras.optimizers.Adam(learning_rate=0.001, beta_1=0.9, beta_2=0.999, epsilon=1e-07)\n",
    "optim['adam'] = adam\n",
    "\n",
    "train_path = '../input/cassava-train/cassava_train/'\n",
    "df = pd.read_csv('../input/cassava/train_data.csv')\n",
    "#df.head()\n",
    "\n",
    "df.label = df.label.astype('str')"
   ]
  },
  {
   "cell_type": "code",
   "execution_count": 4,
   "id": "15e0e717",
   "metadata": {
    "execution": {
     "iopub.execute_input": "2021-07-27T18:06:22.553161Z",
     "iopub.status.busy": "2021-07-27T18:06:22.551963Z",
     "iopub.status.idle": "2021-07-27T18:06:22.554293Z",
     "shell.execute_reply": "2021-07-27T18:06:22.554750Z",
     "shell.execute_reply.started": "2021-07-27T18:05:59.161623Z"
    },
    "papermill": {
     "duration": 0.014234,
     "end_time": "2021-07-27T18:06:22.554869",
     "exception": false,
     "start_time": "2021-07-27T18:06:22.540635",
     "status": "completed"
    },
    "tags": []
   },
   "outputs": [],
   "source": [
    "size = 512\n",
    "batch_size = 64\n",
    "epochs = 25"
   ]
  },
  {
   "cell_type": "code",
   "execution_count": 5,
   "id": "4ba4525a",
   "metadata": {
    "execution": {
     "iopub.execute_input": "2021-07-27T18:06:22.579680Z",
     "iopub.status.busy": "2021-07-27T18:06:22.578456Z",
     "iopub.status.idle": "2021-07-27T18:06:22.580787Z",
     "shell.execute_reply": "2021-07-27T18:06:22.581187Z",
     "shell.execute_reply.started": "2021-07-27T17:32:19.169352Z"
    },
    "papermill": {
     "duration": 0.018231,
     "end_time": "2021-07-27T18:06:22.581299",
     "exception": false,
     "start_time": "2021-07-27T18:06:22.563068",
     "status": "completed"
    },
    "tags": []
   },
   "outputs": [],
   "source": [
    "def resnet_18():\n",
    "  input_img = Input(shape=(size, size, 3)) \n",
    "  x = ZeroPadding2D(padding=(3, 3))(input_img)\n",
    "\n",
    "  # First stage\n",
    "  x = Conv2D(64, kernel_size=7, strides=2)(x)\n",
    "  x = BatchNormalization()(x)\n",
    "  x = Activation('relu')(x)\n",
    "  x = MaxPooling2D((3, 3), strides=2)(x)\n",
    "  # Second stage\n",
    "  x = Residual(64)(x)\n",
    "  x = Residual(64)(x)\n",
    "\n",
    "  # Third stage\n",
    "  x = Residual(128, use_1x1=True, strides=2)(x)\n",
    "  x = Residual(128)(x)\n",
    "\n",
    "  # Forth stage\n",
    "  x = Residual(256, use_1x1=True, strides=2)(x)\n",
    "  x = Residual(256)(x)\n",
    "\n",
    "  # Fifth stage\n",
    "  x = Residual(512, use_1x1=True, strides=2)(x)\n",
    "  x = Residual(512)(x)\n",
    "\n",
    "  # Final stage\n",
    "  x = GlobalAveragePooling2D()(x)\n",
    "  x = Dense(5, activation='softmax', kernel_initializer='he_normal')(x)\n",
    "  \n",
    "  # define the model \n",
    "  model = Model(inputs=input_img, outputs=x, name='Resnet18')\n",
    "  return model"
   ]
  },
  {
   "cell_type": "code",
   "execution_count": 6,
   "id": "e239145a",
   "metadata": {
    "execution": {
     "iopub.execute_input": "2021-07-27T18:06:22.602068Z",
     "iopub.status.busy": "2021-07-27T18:06:22.601537Z",
     "iopub.status.idle": "2021-07-27T18:06:22.605285Z",
     "shell.execute_reply": "2021-07-27T18:06:22.604890Z",
     "shell.execute_reply.started": "2021-07-27T17:32:24.019227Z"
    },
    "papermill": {
     "duration": 0.015985,
     "end_time": "2021-07-27T18:06:22.605387",
     "exception": false,
     "start_time": "2021-07-27T18:06:22.589402",
     "status": "completed"
    },
    "tags": []
   },
   "outputs": [],
   "source": [
    "traingen = ImageDataGenerator(rescale=1.0/255, validation_split=0.2,                                      \n",
    "                                     rotation_range = 15,\n",
    "                                     zoom_range = 0.2,\n",
    "                                     horizontal_flip = True,\n",
    "                                     vertical_flip = True,\n",
    "                                     fill_mode = 'nearest',\n",
    "                                     shear_range = 0.1,\n",
    "                                     height_shift_range = 0.1,\n",
    "                                     width_shift_range = 0.1)\n",
    "validgen = ImageDataGenerator(rescale=1.0/255, validation_split=0.2)"
   ]
  },
  {
   "cell_type": "code",
   "execution_count": 7,
   "id": "ad8e969c",
   "metadata": {
    "execution": {
     "iopub.execute_input": "2021-07-27T18:06:22.627264Z",
     "iopub.status.busy": "2021-07-27T18:06:22.626754Z",
     "iopub.status.idle": "2021-07-27T18:06:49.664685Z",
     "shell.execute_reply": "2021-07-27T18:06:49.664236Z",
     "shell.execute_reply.started": "2021-07-27T17:32:32.165669Z"
    },
    "papermill": {
     "duration": 27.051308,
     "end_time": "2021-07-27T18:06:49.664809",
     "exception": false,
     "start_time": "2021-07-27T18:06:22.613501",
     "status": "completed"
    },
    "tags": []
   },
   "outputs": [
    {
     "name": "stdout",
     "output_type": "stream",
     "text": [
      "Found 16947 validated image filenames belonging to 5 classes.\n",
      "Found 4236 validated image filenames belonging to 5 classes.\n"
     ]
    }
   ],
   "source": [
    "train_gen = traingen.flow_from_dataframe(df, directory=train_path, \n",
    "                                       subset='training',\n",
    "                                       x_col='image_id',\n",
    "                                       y_col = \"label\",\n",
    "                                       target_size = (size, size),\n",
    "                                       batch_size = batch_size,\n",
    "                                       shuffle=True,\n",
    "                                       class_mode = \"sparse\")\n",
    "valid_gen = validgen.flow_from_dataframe(df, directory=train_path, \n",
    "                                       subset='validation',\n",
    "                                       x_col='image_id',\n",
    "                                       y_col = \"label\",\n",
    "                                       target_size = (size, size),\n",
    "                                       batch_size = batch_size,\n",
    "                                       shuffle=False,\n",
    "                                       class_mode = \"sparse\")"
   ]
  },
  {
   "cell_type": "code",
   "execution_count": 8,
   "id": "8a907d57",
   "metadata": {
    "execution": {
     "iopub.execute_input": "2021-07-27T18:06:49.687814Z",
     "iopub.status.busy": "2021-07-27T18:06:49.687132Z",
     "iopub.status.idle": "2021-07-27T18:06:49.689722Z",
     "shell.execute_reply": "2021-07-27T18:06:49.690128Z",
     "shell.execute_reply.started": "2021-07-27T17:34:04.543537Z"
    },
    "papermill": {
     "duration": 0.016259,
     "end_time": "2021-07-27T18:06:49.690243",
     "exception": false,
     "start_time": "2021-07-27T18:06:49.673984",
     "status": "completed"
    },
    "tags": []
   },
   "outputs": [],
   "source": [
    "early_stop = EarlyStopping(monitor = 'val_loss', min_delta = 0.001, \n",
    "                               patience = 5, mode = 'min', verbose = 1,\n",
    "                               restore_best_weights = True)\n",
    "reduce_lr = ReduceLROnPlateau(monitor = 'val_loss', factor = 0.2, \n",
    "                                      patience = 2, min_delta = 0.001, \n",
    "                                      mode = 'min', verbose = 1)"
   ]
  },
  {
   "cell_type": "code",
   "execution_count": 9,
   "id": "972d9849",
   "metadata": {
    "execution": {
     "iopub.execute_input": "2021-07-27T18:06:49.717465Z",
     "iopub.status.busy": "2021-07-27T18:06:49.716552Z",
     "iopub.status.idle": "2021-07-27T18:06:49.719112Z",
     "shell.execute_reply": "2021-07-27T18:06:49.719535Z",
     "shell.execute_reply.started": "2021-07-27T17:34:25.372003Z"
    },
    "papermill": {
     "duration": 0.019872,
     "end_time": "2021-07-27T18:06:49.719694",
     "exception": false,
     "start_time": "2021-07-27T18:06:49.699822",
     "status": "completed"
    },
    "tags": []
   },
   "outputs": [],
   "source": [
    "history = {}\n",
    "def train_model():\n",
    "    model = resnet_18()\n",
    "    model.summary()\n",
    "    model.compile(loss='sparse_categorical_crossentropy', \n",
    "                  optimizer=Adam(learning_rate=0.001, beta_1=0.9, beta_2=0.999, epsilon=1e-07), \n",
    "                  metrics=['accuracy'])\n",
    "    model_save = ModelCheckpoint('./resnet18_cassava.h5',\n",
    "                                 save_best_only = True, \n",
    "                                 save_weights_only = False,\n",
    "                                 monitor = 'val_loss', \n",
    "                                 mode = 'min', verbose = 1)\n",
    "    milestone = model.fit(train_gen,\n",
    "              validation_data=valid_gen,\n",
    "              epochs=epochs,\n",
    "              steps_per_epoch=train_gen.n//train_gen.batch_size,\n",
    "              validation_steps = valid_gen.n//valid_gen.batch_size,\n",
    "              callbacks = [early_stop, reduce_lr]\n",
    "              )\n",
    "    history['adam'] = milestone\n"
   ]
  },
  {
   "cell_type": "code",
   "execution_count": 10,
   "id": "08a67eed",
   "metadata": {
    "execution": {
     "iopub.execute_input": "2021-07-27T18:06:49.743023Z",
     "iopub.status.busy": "2021-07-27T18:06:49.742496Z",
     "iopub.status.idle": "2021-07-27T21:12:45.467265Z",
     "shell.execute_reply": "2021-07-27T21:12:45.466798Z",
     "shell.execute_reply.started": "2021-07-27T17:34:30.533374Z"
    },
    "papermill": {
     "duration": 11155.737402,
     "end_time": "2021-07-27T21:12:45.467391",
     "exception": false,
     "start_time": "2021-07-27T18:06:49.729989",
     "status": "completed"
    },
    "tags": []
   },
   "outputs": [
    {
     "name": "stdout",
     "output_type": "stream",
     "text": [
      "Model: \"Resnet18\"\n",
      "_________________________________________________________________\n",
      "Layer (type)                 Output Shape              Param #   \n",
      "=================================================================\n",
      "input_1 (InputLayer)         [(None, 512, 512, 3)]     0         \n",
      "_________________________________________________________________\n",
      "zero_padding2d (ZeroPadding2 (None, 518, 518, 3)       0         \n",
      "_________________________________________________________________\n",
      "conv2d (Conv2D)              (None, 256, 256, 64)      9472      \n",
      "_________________________________________________________________\n",
      "batch_normalization (BatchNo (None, 256, 256, 64)      256       \n",
      "_________________________________________________________________\n",
      "activation (Activation)      (None, 256, 256, 64)      0         \n",
      "_________________________________________________________________\n",
      "max_pooling2d (MaxPooling2D) (None, 127, 127, 64)      0         \n",
      "_________________________________________________________________\n",
      "residual (Residual)          (None, 127, 127, 64)      74112     \n",
      "_________________________________________________________________\n",
      "residual_1 (Residual)        (None, 127, 127, 64)      74112     \n",
      "_________________________________________________________________\n",
      "residual_2 (Residual)        (None, 64, 64, 128)       230272    \n",
      "_________________________________________________________________\n",
      "residual_3 (Residual)        (None, 64, 64, 128)       295680    \n",
      "_________________________________________________________________\n",
      "residual_4 (Residual)        (None, 32, 32, 256)       919296    \n",
      "_________________________________________________________________\n",
      "residual_5 (Residual)        (None, 32, 32, 256)       1181184   \n",
      "_________________________________________________________________\n",
      "residual_6 (Residual)        (None, 16, 16, 512)       3673600   \n",
      "_________________________________________________________________\n",
      "residual_7 (Residual)        (None, 16, 16, 512)       4721664   \n",
      "_________________________________________________________________\n",
      "global_average_pooling2d (Gl (None, 512)               0         \n",
      "_________________________________________________________________\n",
      "dense (Dense)                (None, 5)                 2565      \n",
      "=================================================================\n",
      "Total params: 11,182,213\n",
      "Trainable params: 11,178,245\n",
      "Non-trainable params: 3,968\n",
      "_________________________________________________________________\n",
      "Epoch 1/25\n",
      "264/264 [==============================] - 1398s 5s/step - loss: 1.4026 - accuracy: 0.5904 - val_loss: 2.0654 - val_accuracy: 0.0968\n",
      "Epoch 2/25\n",
      "264/264 [==============================] - 1225s 5s/step - loss: 0.9475 - accuracy: 0.6488 - val_loss: 1.2872 - val_accuracy: 0.5059\n",
      "Epoch 3/25\n",
      "264/264 [==============================] - 1209s 5s/step - loss: 0.8447 - accuracy: 0.6733 - val_loss: 1.4030 - val_accuracy: 0.5402\n",
      "Epoch 4/25\n",
      "264/264 [==============================] - 1216s 5s/step - loss: 0.7791 - accuracy: 0.7051 - val_loss: 1.0350 - val_accuracy: 0.6411\n",
      "Epoch 5/25\n",
      "264/264 [==============================] - 1209s 5s/step - loss: 0.7396 - accuracy: 0.7218 - val_loss: 1.4586 - val_accuracy: 0.4898\n",
      "Epoch 6/25\n",
      "264/264 [==============================] - 1215s 5s/step - loss: 0.7224 - accuracy: 0.7290 - val_loss: 1.3997 - val_accuracy: 0.5869\n",
      "\n",
      "Epoch 00006: ReduceLROnPlateau reducing learning rate to 0.00020000000949949026.\n",
      "Epoch 7/25\n",
      "264/264 [==============================] - 1245s 5s/step - loss: 0.6146 - accuracy: 0.7758 - val_loss: 1.1174 - val_accuracy: 0.6510\n",
      "Epoch 8/25\n",
      "264/264 [==============================] - 1235s 5s/step - loss: 0.5703 - accuracy: 0.7940 - val_loss: 1.1697 - val_accuracy: 0.6162\n",
      "\n",
      "Epoch 00008: ReduceLROnPlateau reducing learning rate to 4.0000001899898055e-05.\n",
      "Epoch 9/25\n",
      "264/264 [==============================] - 1197s 5s/step - loss: 0.5385 - accuracy: 0.8033 - val_loss: 1.3854 - val_accuracy: 0.5002\n",
      "Restoring model weights from the end of the best epoch.\n",
      "Epoch 00009: early stopping\n"
     ]
    }
   ],
   "source": [
    "# Training model\n",
    "train_model()"
   ]
  },
  {
   "cell_type": "code",
   "execution_count": 11,
   "id": "525f7d85",
   "metadata": {
    "execution": {
     "iopub.execute_input": "2021-07-27T21:12:46.928151Z",
     "iopub.status.busy": "2021-07-27T21:12:46.927354Z",
     "iopub.status.idle": "2021-07-27T21:12:47.492858Z",
     "shell.execute_reply": "2021-07-27T21:12:47.493287Z"
    },
    "papermill": {
     "duration": 1.225119,
     "end_time": "2021-07-27T21:12:47.493429",
     "exception": false,
     "start_time": "2021-07-27T21:12:46.268310",
     "status": "completed"
    },
    "tags": []
   },
   "outputs": [
    {
     "data": {
      "image/png": "[encoded data removed]",
      "text/plain": [
       "<Figure size 1440x1440 with 4 Axes>"
      ]
     },
     "metadata": {
      "needs_background": "light"
     },
     "output_type": "display_data"
    }
   ],
   "source": [
    "#Drawing\n",
    "plt.subplot(4, 1, 1)\n",
    "plt.title('Training loss')\n",
    "plt.xlabel('Epoch')\n",
    "\n",
    "plt.subplot(4, 1, 2)\n",
    "plt.title('Validation loss')\n",
    "plt.xlabel('Epoch')\n",
    "\n",
    "plt.subplot(4, 1, 3)\n",
    "plt.title('Training accuracy')\n",
    "plt.xlabel('Epoch')\n",
    "\n",
    "plt.subplot(4, 1, 4)\n",
    "plt.title('Validation accuracy')\n",
    "plt.xlabel('Epoch')\n",
    "\n",
    "for update_rule, milestone in history.items():\n",
    "    plt.subplot(4, 1, 1)\n",
    "    plt.plot(milestone.history['loss'], 'o', label=update_rule)\n",
    "\n",
    "    plt.subplot(4, 1, 2)\n",
    "    plt.plot(milestone.history['val_loss'], 'o', label=update_rule)\n",
    "\n",
    "    plt.subplot(4, 1, 3)\n",
    "    plt.plot(milestone.history['accuracy'], '-o', label=update_rule)\n",
    "    \n",
    "    plt.subplot(4, 1, 4)\n",
    "    plt.plot(milestone.history['val_accuracy'], '-o', label=update_rule)\n",
    "\n",
    "for i in [1, 2, 3, 4]:\n",
    "    plt.subplot(4, 1, i)\n",
    "    plt.legend(loc='upper center', ncol=4)\n",
    "plt.gcf().set_size_inches(20, 20)\n",
    "plt.show()"
   ]
  }
 ],
 "metadata": {
  "kernelspec": {
   "display_name": "Python 3",
   "language": "python",
   "name": "python3"
  },
  "language_info": {
   "codemirror_mode": {
    "name": "ipython",
    "version": 3
   },
   "file_extension": ".py",
   "mimetype": "text/x-python",
   "name": "python",
   "nbconvert_exporter": "python",
   "pygments_lexer": "ipython3",
   "version": "3.7.10"
  },
  "papermill": {
   "default_parameters": {},
   "duration": 11199.526669,
   "end_time": "2021-07-27T21:12:51.029362",
   "environment_variables": {},
   "exception": null,
   "input_path": "__notebook__.ipynb",
   "output_path": "__notebook__.ipynb",
   "parameters": {},
   "start_time": "2021-07-27T18:06:11.502693",
   "version": "2.3.3"
  }
 },
 "nbformat": 4,
 "nbformat_minor": 5
}
